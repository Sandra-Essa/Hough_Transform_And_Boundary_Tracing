{
 "cells": [
  {
   "cell_type": "code",
   "execution_count": 27,
   "id": "094cb781",
   "metadata": {},
   "outputs": [],
   "source": [
    "import numpy as np\n",
    "import cv2\n",
    "from matplotlib import pyplot as plt\n",
    "import matplotlib"
   ]
  },
  {
   "cell_type": "code",
   "execution_count": 28,
   "id": "c0706b1b",
   "metadata": {},
   "outputs": [],
   "source": [
    "def pic1():\n",
    "    # initialize our canvas as a 300x300 pixel image with 3 channels\n",
    "    # (Red, Green, and Blue) with a black background\n",
    "    canvas1 = np.zeros((300, 300, 1), dtype=\"uint8\")\n",
    "    cv2.rectangle(canvas1, (100, 100), (200,200),1,-1)\n",
    "    cv2.rectangle(canvas1, (30, 225), (250, 200),1, -1)\n",
    "\n",
    "    plt.subplot(221), plt.imshow(canvas1, cmap='gray')\n",
    "    plt.title('Multiple Region'), plt.xticks([]), plt.yticks([])\n",
    "    return canvas1\n"
   ]
  },
  {
   "cell_type": "code",
   "execution_count": 29,
   "id": "97b598a6",
   "metadata": {},
   "outputs": [
    {
     "data": {
      "text/plain": [
       "(300, 300, 1)"
      ]
     },
     "execution_count": 29,
     "metadata": {},
     "output_type": "execute_result"
    },
    {
     "data": {
      "image/png": "[encoded data removed]",
      "text/plain": [
       "<Figure size 432x288 with 1 Axes>"
      ]
     },
     "metadata": {},
     "output_type": "display_data"
    }
   ],
   "source": [
    "arr1 = pic1()\n",
    "width = arr1.shape[0]\n",
    "length = arr1.shape[1]\n",
    "arr1.shape"
   ]
  },
  {
   "cell_type": "code",
   "execution_count": 30,
   "id": "bddd7b72",
   "metadata": {},
   "outputs": [],
   "source": [
    "def pic2():\n",
    "    # initialize our canvas as a 300x300 pixel image with 3 channels\n",
    "    # (Red, Green, and Blue) with a black background\n",
    "    canvas2 = np.zeros((300, 300, 1), dtype=\"uint8\")\n",
    "    # blue=(0,0,255)\n",
    "    cv2.rectangle(canvas2, (100, 100), (200, 200), 1, -1)\n",
    "\n",
    "    plt.subplot(221), plt.imshow(canvas2, cmap='gray')\n",
    "    plt.title('Single Region'), plt.xticks([]), plt.yticks([])\n",
    "    return canvas2"
   ]
  },
  {
   "cell_type": "code",
   "execution_count": 31,
   "id": "84e7090f",
   "metadata": {},
   "outputs": [
    {
     "data": {
      "text/plain": [
       "(300, 300, 1)"
      ]
     },
     "execution_count": 31,
     "metadata": {},
     "output_type": "execute_result"
    },
    {
     "data": {
      "image/png": "[encoded data removed]",
      "text/plain": [
       "<Figure size 432x288 with 1 Axes>"
      ]
     },
     "metadata": {},
     "output_type": "display_data"
    }
   ],
   "source": [
    "arr2 = pic2()\n",
    "width = arr2.shape[0]\n",
    "length = arr2.shape[1]\n",
    "arr2.shape"
   ]
  },
  {
   "cell_type": "code",
   "execution_count": 32,
   "id": "f1d05556",
   "metadata": {},
   "outputs": [],
   "source": [
    "def pic3():\n",
    "    # initialize our canvas as a 300x300 pixel image with 1 channel\n",
    "    canvas3 = np.zeros((300, 300, 1), dtype=\"uint8\")\n",
    "    cv2.circle(canvas3, (100,100), 50, 1, -1)\n",
    "    plt.subplot(221), plt.imshow(canvas3, cmap='gray')\n",
    "    plt.title('Single Region'), plt.xticks([]), plt.yticks([])\n",
    "    return canvas3\n"
   ]
  },
  {
   "cell_type": "code",
   "execution_count": 33,
   "id": "17974b71",
   "metadata": {},
   "outputs": [
    {
     "data": {
      "text/plain": [
       "(300, 300, 1)"
      ]
     },
     "execution_count": 33,
     "metadata": {},
     "output_type": "execute_result"
    },
    {
     "data": {
      "image/png": "[encoded data removed]",
      "text/plain": [
       "<Figure size 432x288 with 1 Axes>"
      ]
     },
     "metadata": {},
     "output_type": "display_data"
    }
   ],
   "source": [
    "arr3 = pic3()\n",
    "width = arr3.shape[0]\n",
    "length = arr3.shape[1]\n",
    "arr3.shape"
   ]
  },
  {
   "cell_type": "code",
   "execution_count": 34,
   "id": "7b055236",
   "metadata": {},
   "outputs": [],
   "source": [
    "def find_first_pixel(arr):\n",
    "    stop_flag=0\n",
    "   # canvas3 = pic()\n",
    "    length = arr.shape[0]\n",
    "    width = arr.shape[1]\n",
    "    for i in range(length):\n",
    "        if (stop_flag==0):\n",
    "            for j in range(width):\n",
    "                if (arr[i][j] == 1):\n",
    "                    x = i\n",
    "                    y = j\n",
    "                    stop_flag=1\n",
    "                    break\n",
    "    return (x, y)\n",
    "\n",
    "\n",
    "# f = find_first_pixel(arr1)\n",
    "# print(f)"
   ]
  },
  {
   "cell_type": "code",
   "execution_count": 35,
   "id": "4c2def9d",
   "metadata": {},
   "outputs": [],
   "source": [
    "# works but doesn't handle outside pic pixels\n",
    "def border_tracing_4(arr):\n",
    "    p0 = find_first_pixel(arr)\n",
    "    row = p0[0] #current row\n",
    "    col = p0[1] #current_column\n",
    "    borders = [p0] #list to add p (border pixels)\n",
    "    dirc = 3\n",
    "    search = (dirc+3) % 4 #the next direction we're gonna check\n",
    "\n",
    "    while(1):\n",
    "        search_col = col #column of the next direction\n",
    "        search_row = row            #row of the next direction\n",
    "            \n",
    "        if (search == 0):\n",
    "            search_col = col+1 \n",
    "            if (search_row > col ):\n",
    "                search=search-1 \n",
    "                \n",
    "        if (search == 1):\n",
    "            search_row = row-1          \n",
    "            if (search_row < 0):\n",
    "                search=search+1            \n",
    "        \n",
    "        if (search == 2):\n",
    "            search_col = col-1\n",
    "            if (search_col < 0):\n",
    "                search=search+1\n",
    "               \n",
    "        if (search == 3):\n",
    "            search_row = row+1  \n",
    "            if (search_row > row ):\n",
    "                search=search-1 \n",
    "                \n",
    "        if (arr[search_row][search_col] == 1): #when we find a pixel with intensity=1\n",
    "            row = search_row\n",
    "            col = search_col\n",
    "            borders.append((row,col))\n",
    "            if (borders[-1] == borders[1] and borders[-2] == borders[0] and len(borders)>2): #stopping criteria\n",
    "                break \n",
    "                \n",
    "            if(borders[-1][1] > borders[-2][1]): # to right\n",
    "                dirc = 0                  \n",
    "            elif(borders[-1][0] < borders[-2][0]): #upwards\n",
    "                dirc = 1\n",
    "            elif(borders[-1][1] < borders[-2][1]): #to left\n",
    "                dirc = 2                      \n",
    "            elif(borders[-1][0] > borders[-2][0]): #downwards \n",
    "                dirc = 3        \n",
    "            search = (dirc+3) % 4\n",
    "            \n",
    "        else:\n",
    "            search = search+1\n",
    "            if(search>3):\n",
    "                search=0\n",
    "\n",
    "    return borders #coz last two vals are repeated\n",
    "    \n",
    " "
   ]
  },
  {
   "cell_type": "code",
   "execution_count": 36,
   "id": "7d52e43d",
   "metadata": {},
   "outputs": [
    {
     "ename": "KeyboardInterrupt",
     "evalue": "",
     "output_type": "error",
     "traceback": [
      "\u001b[1;31m---------------------------------------------------------------------------\u001b[0m",
      "\u001b[1;31mKeyboardInterrupt\u001b[0m                         Traceback (most recent call last)",
      "\u001b[1;32m~\\AppData\\Local\\Temp/ipykernel_192/2714155818.py\u001b[0m in \u001b[0;36m<module>\u001b[1;34m\u001b[0m\n\u001b[1;32m----> 1\u001b[1;33m \u001b[0mb1\u001b[0m\u001b[1;33m=\u001b[0m\u001b[0mborder_tracing_4\u001b[0m\u001b[1;33m(\u001b[0m\u001b[0marr1\u001b[0m\u001b[1;33m)\u001b[0m\u001b[1;33m\u001b[0m\u001b[1;33m\u001b[0m\u001b[0m\n\u001b[0m\u001b[0;32m      2\u001b[0m \u001b[1;31m# b\u001b[0m\u001b[1;33m\u001b[0m\u001b[1;33m\u001b[0m\u001b[0m\n",
      "\u001b[1;32m~\\AppData\\Local\\Temp/ipykernel_192/1622837844.py\u001b[0m in \u001b[0;36mborder_tracing_4\u001b[1;34m(arr)\u001b[0m\n\u001b[0;32m     32\u001b[0m                 \u001b[0msearch\u001b[0m\u001b[1;33m=\u001b[0m\u001b[0msearch\u001b[0m\u001b[1;33m-\u001b[0m\u001b[1;36m1\u001b[0m\u001b[1;33m\u001b[0m\u001b[1;33m\u001b[0m\u001b[0m\n\u001b[0;32m     33\u001b[0m \u001b[1;33m\u001b[0m\u001b[0m\n\u001b[1;32m---> 34\u001b[1;33m         \u001b[1;32mif\u001b[0m \u001b[1;33m(\u001b[0m\u001b[0marr\u001b[0m\u001b[1;33m[\u001b[0m\u001b[0msearch_row\u001b[0m\u001b[1;33m]\u001b[0m\u001b[1;33m[\u001b[0m\u001b[0msearch_col\u001b[0m\u001b[1;33m]\u001b[0m \u001b[1;33m==\u001b[0m \u001b[1;36m1\u001b[0m\u001b[1;33m)\u001b[0m\u001b[1;33m:\u001b[0m \u001b[1;31m#when we find a pixel with intensity=1\u001b[0m\u001b[1;33m\u001b[0m\u001b[1;33m\u001b[0m\u001b[0m\n\u001b[0m\u001b[0;32m     35\u001b[0m             \u001b[0mrow\u001b[0m \u001b[1;33m=\u001b[0m \u001b[0msearch_row\u001b[0m\u001b[1;33m\u001b[0m\u001b[1;33m\u001b[0m\u001b[0m\n\u001b[0;32m     36\u001b[0m             \u001b[0mcol\u001b[0m \u001b[1;33m=\u001b[0m \u001b[0msearch_col\u001b[0m\u001b[1;33m\u001b[0m\u001b[1;33m\u001b[0m\u001b[0m\n",
      "\u001b[1;31mKeyboardInterrupt\u001b[0m: "
     ]
    }
   ],
   "source": [
    "b1=border_tracing_4(arr1)\n",
    "# b   "
   ]
  },
  {
   "cell_type": "code",
   "execution_count": null,
   "id": "668f4b76",
   "metadata": {},
   "outputs": [],
   "source": [
    "b2=border_tracing_4(arr2)"
   ]
  },
  {
   "cell_type": "code",
   "execution_count": null,
   "id": "09979087",
   "metadata": {},
   "outputs": [],
   "source": [
    "b3=border_tracing_4(arr3)"
   ]
  },
  {
   "cell_type": "code",
   "execution_count": null,
   "id": "bbb5192e",
   "metadata": {},
   "outputs": [],
   "source": [
    "def show(b1):\n",
    "    from PIL import Image\n",
    "    from IPython.display import display\n",
    "    data_in_array = np.array(b1)\n",
    "    transposed = data_in_array.T \n",
    "    x, y = transposed \n",
    "    plt.axis([0, 300, 0, 300])\n",
    "    plt.plot(x, y, 'ro')\n",
    "    image=Image.open(\"./img3.jpg\")\n",
    "    transposed  = image.transpose(Image.ROTATE_270)\n",
    "    plt.savefig('img3.jpg')\n",
    "    transposed.show()\n"
   ]
  },
  {
   "cell_type": "code",
   "execution_count": null,
   "id": "c3ff4d47",
   "metadata": {},
   "outputs": [],
   "source": [
    "show(b1)"
   ]
  },
  {
   "cell_type": "code",
   "execution_count": null,
   "id": "0f9ea348",
   "metadata": {},
   "outputs": [],
   "source": [
    "show(b2)"
   ]
  },
  {
   "cell_type": "code",
   "execution_count": null,
   "id": "7f3c150d",
   "metadata": {},
   "outputs": [],
   "source": [
    "show(b3)"
   ]
  },
  {
   "cell_type": "code",
   "execution_count": null,
   "id": "c7c8c8fa",
   "metadata": {},
   "outputs": [],
   "source": [
    "# from PIL import Image\n",
    "# from IPython.display import display\n",
    "# data_in_array = np.array(b2)\n",
    "# transposed = data_in_array.T \n",
    "# x, y = transposed \n",
    "# plt.axis([0, 300, 0, 300])\n",
    "# plt.plot(x, y, 'ro')\n",
    "# image=Image.open(\"./img3.jpg\")\n",
    "# transposed  = image.transpose(Image.ROTATE_270)\n",
    "# plt.savefig('img3.jpg')\n",
    "# transposed.show()"
   ]
  },
  {
   "cell_type": "code",
   "execution_count": 1,
   "id": "413c4dfe",
   "metadata": {},
   "outputs": [],
   "source": [
    "import numpy as np\n",
    "import cv2 as cv\n",
    "img = cv.imread('HoughCircles.jpg',0)\n",
    "img = cv.medianBlur(img,5)\n",
    "circles = cv.HoughCircles(img,cv.HOUGH_GRADIENT,1,20,\n",
    "                            param1=50,param2=30,minRadius=30,maxRadius=50)\n",
    "circles = np.uint16(np.around(circles))\n",
    "for i in circles[0,:]:\n",
    "    # draw the outer circle\n",
    "    cv.circle(img,(i[0],i[1]),i[2],(0,255,0),2)\n",
    "    # draw the center of the circle\n",
    "    cv.circle(img,(i[0],i[1]),2,(0,0,255),3)\n",
    "cv.imshow('detected circles',img)\n",
    "cv.waitKey(0)\n",
    "cv.destroyAllWindows()"
   ]
  },
  {
   "cell_type": "code",
   "execution_count": null,
   "id": "bb701833",
   "metadata": {},
   "outputs": [],
   "source": []
  }
 ],
 "metadata": {
  "kernelspec": {
   "display_name": "Python 3 (ipykernel)",
   "language": "python",
   "name": "python3"
  },
  "language_info": {
   "codemirror_mode": {
    "name": "ipython",
    "version": 3
   },
   "file_extension": ".py",
   "mimetype": "text/x-python",
   "name": "python",
   "nbconvert_exporter": "python",
   "pygments_lexer": "ipython3",
   "version": "3.9.7"
  }
 },
 "nbformat": 4,
 "nbformat_minor": 5
}
