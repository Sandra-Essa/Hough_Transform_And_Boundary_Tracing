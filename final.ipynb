{
 "cells": [
  {
   "cell_type": "code",
   "execution_count": 1,
   "id": "094cb781",
   "metadata": {},
   "outputs": [],
   "source": [
    "import numpy as np\n",
    "import cv2\n",
    "from matplotlib import pyplot as plt\n",
    "import matplotlib"
   ]
  },
  {
   "cell_type": "code",
   "execution_count": 2,
   "id": "c0706b1b",
   "metadata": {},
   "outputs": [],
   "source": [
    "def pic1():\n",
    "    # initialize our canvas as a 300x300 pixel image with 3 channels\n",
    "    # (Red, Green, and Blue) with a black background\n",
    "    canvas1 = np.zeros((300, 300, 1), dtype=\"uint8\")\n",
    "    cv2.rectangle(canvas1, (100, 100), (200,200),1,-1)\n",
    "    cv2.rectangle(canvas1, (30, 225), (250, 200),1, -1)\n",
    "\n",
    "    plt.subplot(221), plt.imshow(canvas1, cmap='gray')\n",
    "    plt.title('Multiple Region'), plt.xticks([]), plt.yticks([])\n",
    "    return canvas1\n"
   ]
  },
  {
   "cell_type": "code",
   "execution_count": 3,
   "id": "97b598a6",
   "metadata": {},
   "outputs": [
    {
     "data": {
      "text/plain": [
       "(300, 300, 1)"
      ]
     },
     "execution_count": 3,
     "metadata": {},
     "output_type": "execute_result"
    },
    {
     "data": {
      "image/png": "[encoded data removed]",
      "text/plain": [
       "<Figure size 432x288 with 1 Axes>"
      ]
     },
     "metadata": {},
     "output_type": "display_data"
    }
   ],
   "source": [
    "arr1 = pic1()\n",
    "width = arr1.shape[0]\n",
    "length = arr1.shape[1]\n",
    "arr1.shape"
   ]
  },
  {
   "cell_type": "code",
   "execution_count": 4,
   "id": "bddd7b72",
   "metadata": {},
   "outputs": [],
   "source": [
    "def pic2():\n",
    "    # initialize our canvas as a 300x300 pixel image with 3 channels\n",
    "    # (Red, Green, and Blue) with a black background\n",
    "    canvas3 = np.zeros((300, 300, 1), dtype=\"uint8\")\n",
    "    # blue=(0,0,255)\n",
    "    cv2.rectangle(canvas3, (100, 100), (200, 200), 1, -1)\n",
    "\n",
    "    plt.subplot(221), plt.imshow(canvas3, cmap='gray')\n",
    "    plt.title('Single Region'), plt.xticks([]), plt.yticks([])\n",
    "    return canvas3"
   ]
  },
  {
   "cell_type": "code",
   "execution_count": 5,
   "id": "84e7090f",
   "metadata": {},
   "outputs": [
    {
     "data": {
      "text/plain": [
       "(300, 300, 1)"
      ]
     },
     "execution_count": 5,
     "metadata": {},
     "output_type": "execute_result"
    },
    {
     "data": {
      "image/png": "[encoded data removed]",
      "text/plain": [
       "<Figure size 432x288 with 1 Axes>"
      ]
     },
     "metadata": {},
     "output_type": "display_data"
    }
   ],
   "source": [
    "arr2 = pic2()\n",
    "width = arr2.shape[0]\n",
    "length = arr2.shape[1]\n",
    "arr2.shape"
   ]
  },
  {
   "cell_type": "code",
   "execution_count": 8,
   "id": "7b055236",
   "metadata": {},
   "outputs": [
    {
     "name": "stdout",
     "output_type": "stream",
     "text": [
      "(100, 100)\n"
     ]
    }
   ],
   "source": [
    "def find_first_pixel(arr):\n",
    "    stop_flag=0\n",
    "   # canvas3 = pic()\n",
    "    length = arr.shape[0]\n",
    "    width = arr.shape[1]\n",
    "    for i in range(length):\n",
    "        if (stop_flag==0):\n",
    "            for j in range(width):\n",
    "                if (arr[i][j] == 1):\n",
    "                    x = i\n",
    "                    y = j\n",
    "                    stop_flag=1\n",
    "                    break\n",
    "    return (x, y)\n",
    "\n",
    "\n",
    "f = find_first_pixel(arr1)\n",
    "print(f)"
   ]
  },
  {
   "cell_type": "code",
   "execution_count": null,
   "id": "4c2def9d",
   "metadata": {},
   "outputs": [],
   "source": [
    "# works but doesn't handle outside pic pixels\n",
    "def border_tracing_4(arr):\n",
    "    p0 = find_first_pixel(arr)\n",
    "    row = p0[0] #current row\n",
    "    col = p0[1] #current_column\n",
    "    borders = [p0] #list to add p (border pixels)\n",
    "    dirc = 3\n",
    "    search = (dirc+3) % 4 #the next direction we're gonna check\n",
    "\n",
    "    while(1):\n",
    "        search_col = col #column of the next direction\n",
    "        search_row = row            #row of the next direction\n",
    "            \n",
    "        if (search == 0):\n",
    "            search_col = col+1 \n",
    "            if (search_row > col ):\n",
    "                search=search-1 \n",
    "                \n",
    "        if (search == 1):\n",
    "            search_row = row-1          \n",
    "            if (search_row < 0):\n",
    "                search=search+1            \n",
    "        \n",
    "        if (search == 2):\n",
    "            search_col = col-1\n",
    "            if (search_col < 0):\n",
    "                search=search+1\n",
    "               \n",
    "        if (search == 3):\n",
    "            search_row = row+1  \n",
    "            if (search_row > row ):\n",
    "                search=search-1 \n",
    "                \n",
    "        if (arr[search_row][search_col] == 1): #when we find a pixel with intensity=1\n",
    "            row = search_row\n",
    "            col = search_col\n",
    "            borders.append((row,col))\n",
    "            if (borders[-1] == borders[1] and borders[-2] == borders[0] and len(borders)>2): #stopping criteria\n",
    "                break \n",
    "                \n",
    "            if(borders[-1][1] > borders[-2][1]): # to right\n",
    "                dirc = 0                  \n",
    "            elif(borders[-1][0] < borders[-2][0]): #upwards\n",
    "                dirc = 1\n",
    "            elif(borders[-1][1] < borders[-2][1]): #to left\n",
    "                dirc = 2                      \n",
    "            elif(borders[-1][0] > borders[-2][0]): #downwards \n",
    "                dirc = 3        \n",
    "            search = (dirc+3) % 4\n",
    "            \n",
    "        else:\n",
    "            search = search+1\n",
    "            if(search>3):\n",
    "                search=0\n",
    "\n",
    "    return borders #coz last two vals are repeated\n",
    "    \n",
    "b1=border_tracing_4(arr1)\n",
    "# b    "
   ]
  },
  {
   "cell_type": "code",
   "execution_count": null,
   "id": "668f4b76",
   "metadata": {},
   "outputs": [],
   "source": [
    "b2=border_tracing_4(arr2)"
   ]
  },
  {
   "cell_type": "code",
   "execution_count": null,
   "id": "bbb5192e",
   "metadata": {},
   "outputs": [],
   "source": [
    "#plot borders to make sure we got it right\n",
    "from PIL import Image\n",
    "from IPython.display import display\n",
    "data_in_array = np.array(b1)\n",
    "transposed = data_in_array.T \n",
    "x, y = transposed \n",
    "plt.axis([0, 300, 0, 300])\n",
    "plt.plot(x, y, 'ro')\n",
    "image=Image.open(\"./img3.jpg\")\n",
    "transposed  = image.transpose(Image.ROTATE_270)\n",
    "plt.savefig('img3.jpg')\n",
    "transposed.show()\n"
   ]
  },
  {
   "cell_type": "code",
   "execution_count": null,
   "id": "c7c8c8fa",
   "metadata": {},
   "outputs": [],
   "source": [
    "from PIL import Image\n",
    "from IPython.display import display\n",
    "data_in_array = np.array(b2)\n",
    "transposed = data_in_array.T \n",
    "x, y = transposed \n",
    "plt.axis([0, 300, 0, 300])\n",
    "plt.plot(x, y, 'ro')\n",
    "image=Image.open(\"./img3.jpg\")\n",
    "transposed  = image.transpose(Image.ROTATE_270)\n",
    "plt.savefig('img3.jpg')\n",
    "transposed.show()"
   ]
  },
  {
   "cell_type": "code",
   "execution_count": null,
   "id": "413c4dfe",
   "metadata": {},
   "outputs": [],
   "source": []
  },
  {
   "cell_type": "code",
   "execution_count": null,
   "id": "bb701833",
   "metadata": {},
   "outputs": [],
   "source": []
  }
 ],
 "metadata": {
  "kernelspec": {
   "display_name": "Python 3 (ipykernel)",
   "language": "python",
   "name": "python3"
  },
  "language_info": {
   "codemirror_mode": {
    "name": "ipython",
    "version": 3
   },
   "file_extension": ".py",
   "mimetype": "text/x-python",
   "name": "python",
   "nbconvert_exporter": "python",
   "pygments_lexer": "ipython3",
   "version": "3.9.7"
  }
 },
 "nbformat": 4,
 "nbformat_minor": 5
}
