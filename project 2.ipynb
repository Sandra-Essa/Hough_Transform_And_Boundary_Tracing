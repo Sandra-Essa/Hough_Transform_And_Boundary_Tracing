{
 "cells": [
  {
   "cell_type": "markdown",
   "id": "f1f2395d",
   "metadata": {},
   "source": [
    "# Simple Region With 4 Connective"
   ]
  },
  {
   "cell_type": "code",
   "execution_count": 47,
   "id": "07ebc432",
   "metadata": {},
   "outputs": [],
   "source": [
    "import numpy as np\n",
    "import cv2\n",
    "from matplotlib import pyplot as plt\n"
   ]
  },
  {
   "cell_type": "code",
   "execution_count": 32,
   "id": "e0b49e8c",
   "metadata": {},
   "outputs": [],
   "source": [
    "def pic():\n",
    "    # initialize our canvas as a 300x300 pixel image with 3 channels\n",
    "    # (Red, Green, and Blue) with a black background\n",
    "    canvas3 = np.zeros((300, 300, 1), dtype=\"uint8\")\n",
    "    # blue=(0,0,255)\n",
    "    cv2.rectangle(canvas3, (100, 100), (200, 200), 1, -1)\n",
    "\n",
    "    plt.subplot(221), plt.imshow(canvas3, cmap='gray')\n",
    "    plt.title('Single Region'), plt.xticks([]), plt.yticks([])\n",
    "    return canvas3"
   ]
  },
  {
   "cell_type": "code",
   "execution_count": 33,
   "id": "3f4891b2",
   "metadata": {},
   "outputs": [
    {
     "data": {
      "text/plain": [
       "(300, 300, 1)"
      ]
     },
     "execution_count": 33,
     "metadata": {},
     "output_type": "execute_result"
    },
    {
     "data": {
      "image/png": "[encoded data removed]",
      "text/plain": [
       "<Figure size 432x288 with 1 Axes>"
      ]
     },
     "metadata": {},
     "output_type": "display_data"
    }
   ],
   "source": [
    "arr = pic()\n",
    "width = arr.shape[0]\n",
    "length = arr.shape[1]\n",
    "arr.shape"
   ]
  },
  {
   "cell_type": "code",
   "execution_count": 34,
   "id": "d10b3820",
   "metadata": {},
   "outputs": [
    {
     "name": "stdout",
     "output_type": "stream",
     "text": [
      "(100, 100)\n"
     ]
    }
   ],
   "source": [
    "def find_first_pixel(arr):\n",
    "    stop_flag=0\n",
    "   # canvas3 = pic()\n",
    "    length = arr.shape[0]\n",
    "    width = arr.shape[1]\n",
    "    for i in range(length):\n",
    "        if (stop_flag==0):\n",
    "            for j in range(width):\n",
    "                if (arr[i][j] == 1):\n",
    "                    x = i\n",
    "                    y = j\n",
    "                    stop_flag=1\n",
    "                    break\n",
    "    return (x, y)\n",
    "\n",
    "\n",
    "f = find_first_pixel(arr)\n",
    "print(f)"
   ]
  },
  {
   "cell_type": "code",
   "execution_count": 46,
   "id": "6b0a0b4d",
   "metadata": {},
   "outputs": [
    {
     "data": {
      "text/plain": [
       "(Text(0.5, 1.0, 'Simple Region'), ([], []), ([], []))"
      ]
     },
     "execution_count": 46,
     "metadata": {},
     "output_type": "execute_result"
    },
    {
     "data": {
      "image/png": "[encoded data removed]",
      "text/plain": [
       "<Figure size 432x288 with 1 Axes>"
      ]
     },
     "metadata": {},
     "output_type": "display_data"
    }
   ],
   "source": [
    "# works but doesn't handle outside pic pixels\n",
    "def border_tracing(connectivity,arr):\n",
    "    p0 = find_first_pixel(arr)\n",
    "    row = p0[0] #current row\n",
    "    col = p0[1] #current_column\n",
    "    borders = [p0] #list to add p (border pixels)\n",
    "    if (connectivity == 4):\n",
    "        dirc = 3\n",
    "        search = (dirc+3) % 4 #the next direction we're gonna check\n",
    "\n",
    "        while(1):\n",
    "            search_col = col #column of the next direction\n",
    "            search_row = row            #row of the next direction\n",
    "            \n",
    "            if (search == 0):\n",
    "                search_col = col+1 \n",
    "        \n",
    "            if (search == 1):\n",
    "                search_row = row-1          \n",
    "                if (search_row < 0):\n",
    "                    search=search+1            \n",
    "            if (search == 2):\n",
    "                search_col = col-1\n",
    "                if (search_col < 0):\n",
    "                    search=search+1\n",
    "               \n",
    "            if (search == 3):\n",
    "                search_row = row+1  \n",
    "\n",
    "                \n",
    "            if (arr[search_row][search_col] == 1): #when we find a pixel with intensity=1\n",
    "                row = search_row\n",
    "                col = search_col\n",
    "                borders.append((row,col))\n",
    "                if (borders[-1] == borders[1] and borders[-2] == borders[0] and len(borders)>2): #stopping criteria\n",
    "                    break \n",
    "                \n",
    "                if(borders[-1][1] > borders[-2][1]): # to right\n",
    "                    dirc = 0                  \n",
    "                elif(borders[-1][0] < borders[-2][0]): #upwards\n",
    "                    dirc = 1\n",
    "                elif(borders[-1][1] < borders[-2][1]): #to left\n",
    "                    dirc = 2                      \n",
    "                elif(borders[-1][0] > borders[-2][0]): #downwards \n",
    "                    dirc = 3        \n",
    "                search = (dirc+3) % 4\n",
    "            \n",
    "            else:\n",
    "                search = search+1\n",
    "                if(search>3):\n",
    "                    search=0\n",
    "\n",
    "        return borders #coz last two vals are repeated\n",
    "    \n",
    "b=border_tracing(4,arr)\n",
    "b    \n",
    "plt.subplot(221), plt.imshow(b, cmap='gray')\n",
    "plt.title('Simple Region'), plt.xticks([]), plt.yticks([])"
   ]
  },
  {
   "cell_type": "markdown",
   "id": "85312661",
   "metadata": {},
   "source": [
    "# Multiple Regions With 8 Connectivity"
   ]
  },
  {
   "cell_type": "code",
   "execution_count": 40,
   "id": "942fb5de",
   "metadata": {},
   "outputs": [],
   "source": [
    "\n",
    "def pic():\n",
    "    # initialize our canvas as a 300x300 pixel image with 3 channels\n",
    "    # (Red, Green, and Blue) with a black background\n",
    "    canvas1 = np.zeros((300, 300, 1), dtype=\"uint8\")\n",
    "    cv2.rectangle(canvas1, (100, 100), (200,200),1,-1)\n",
    "    cv2.rectangle(canvas1, (30, 225), (250, 200),1, -1)\n",
    "\n",
    "    plt.subplot(221), plt.imshow(canvas1, cmap='gray')\n",
    "    plt.title('Multiple Region'), plt.xticks([]), plt.yticks([])\n",
    "    return canvas1\n"
   ]
  },
  {
   "cell_type": "code",
   "execution_count": 41,
   "id": "ffb168c4",
   "metadata": {},
   "outputs": [
    {
     "data": {
      "text/plain": [
       "402"
      ]
     },
     "execution_count": 41,
     "metadata": {},
     "output_type": "execute_result"
    }
   ],
   "source": [
    "len(b)"
   ]
  },
  {
   "cell_type": "code",
   "execution_count": 42,
   "id": "121d95af",
   "metadata": {},
   "outputs": [
    {
     "data": {
      "text/plain": [
       "(300, 300, 1)"
      ]
     },
     "execution_count": 42,
     "metadata": {},
     "output_type": "execute_result"
    },
    {
     "data": {
      "image/png": "[encoded data removed]",
      "text/plain": [
       "<Figure size 432x288 with 1 Axes>"
      ]
     },
     "metadata": {},
     "output_type": "display_data"
    }
   ],
   "source": [
    "arr = pic()\n",
    "width = arr.shape[0]\n",
    "length = arr.shape[1]\n",
    "arr.shape"
   ]
  },
  {
   "cell_type": "code",
   "execution_count": 43,
   "id": "326e0b10",
   "metadata": {},
   "outputs": [
    {
     "name": "stdout",
     "output_type": "stream",
     "text": [
      "(100, 100)\n"
     ]
    }
   ],
   "source": [
    "def find_first_pixel(arr):\n",
    "    stop_flag=0\n",
    "   # canvas3 = pic()\n",
    "    length = arr.shape[0]\n",
    "    width = arr.shape[1]\n",
    "    for i in range(length):\n",
    "        if (stop_flag==0):\n",
    "            for j in range(width):\n",
    "                if (arr[i][j] == 1):\n",
    "                    x = i\n",
    "                    y = j\n",
    "                    stop_flag=1\n",
    "                    break\n",
    "    return (x, y)\n",
    "\n",
    "\n",
    "f = find_first_pixel(arr)\n",
    "print(f)"
   ]
  },
  {
   "cell_type": "code",
   "execution_count": 49,
   "id": "18c12864",
   "metadata": {},
   "outputs": [
    {
     "ename": "IndentationError",
     "evalue": "unindent does not match any outer indentation level (<tokenize>, line 126)",
     "output_type": "error",
     "traceback": [
      "\u001b[1;36m  File \u001b[1;32m\"<tokenize>\"\u001b[1;36m, line \u001b[1;32m126\u001b[0m\n\u001b[1;33m    search_col = col+1\u001b[0m\n\u001b[1;37m    ^\u001b[0m\n\u001b[1;31mIndentationError\u001b[0m\u001b[1;31m:\u001b[0m unindent does not match any outer indentation level\n"
     ]
    }
   ],
   "source": [
    "def border_tracing(connectivity,arr):\n",
    "    p0 = find_first_pixel(arr)\n",
    "    row = p0[0] #current row\n",
    "    col = p0[1] #current_column\n",
    "    borders = [p0] #list to add p (border pixels)\n",
    "    if (connectivity == 4):\n",
    "        dirc = 3\n",
    "        search = (dirc+3) % 4 #the next direction we're gonna check\n",
    "\n",
    "        while(1):\n",
    "            search_col = col #column of the next direction\n",
    "            search_row = row            #row of the next direction\n",
    "            \n",
    "            if (search == 0):\n",
    "                search_col = col+1 \n",
    "        \n",
    "            if (search == 1):\n",
    "                search_row = row-1          \n",
    "                if (search_row < 0):\n",
    "                    search=search+1            \n",
    "            if (search == 2):\n",
    "                search_col = col-1\n",
    "                if (search_col < 0):\n",
    "                    search=search+1\n",
    "               \n",
    "            if (search == 3):\n",
    "                search_row = row+1  \n",
    "\n",
    "                \n",
    "            if (arr[search_row][search_col] == 1): #when we find a pixel with intensity=1\n",
    "                row = search_row\n",
    "                col = search_col\n",
    "                borders.append((row,col))\n",
    "                if (borders[-1] == borders[1] and borders[-2] == borders[0] and len(borders)>2): #stopping criteria\n",
    "                    break \n",
    "                \n",
    "                if(borders[-1][1] > borders[-2][1]): # to right\n",
    "                    dirc = 0                  \n",
    "                elif(borders[-1][0] < borders[-2][0]): #upwards\n",
    "                    dirc = 1\n",
    "                elif(borders[-1][1] < borders[-2][1]): #to left\n",
    "                    dirc = 2                      \n",
    "                elif(borders[-1][0] > borders[-2][0]): #downwards \n",
    "                    dirc = 3        \n",
    "                search = (dirc+3) % 4\n",
    "            \n",
    "            else:\n",
    "                search = search+1\n",
    "                if(search>3):\n",
    "                    search=0\n",
    "                    \n",
    "    if (connectivity == 8):\n",
    "        \n",
    "        dirc = 7\n",
    "        \n",
    "        #check dir even or odd\n",
    "        \n",
    "        if (dir%2==0):\n",
    "            search = (dirc+7) % 8 #the next direction we're gonna check\n",
    "        else\n",
    "            search = (dirc+6) % 8\n",
    "        #########################\n",
    "        \n",
    "        #loop for iteration pixels\n",
    "        while(1):\n",
    "                \n",
    "            search_col = col  #column of the next direction\n",
    "            search_row = row   #row of the next direction\n",
    "            \n",
    "            #increase colum\n",
    "            if (search == 0):\n",
    "                search_col = col+1 \n",
    "        \n",
    "            # increase colum & decrease row\n",
    "            if (search == 1):\n",
    "                search_col = col+1\n",
    "                search_row = row-1  \n",
    "                \n",
    "                \n",
    "                #check if row 0 after decrease\n",
    "                if (search_row < 0):\n",
    "                    search=search+1 \n",
    "            \n",
    "            #decrease row\n",
    "            if (search == 2):\n",
    "                search_row = row-1 \n",
    "                \n",
    "                #check if row 0 after decrease\n",
    "                if (search_row < 0):\n",
    "                    search=search+1 \n",
    "             \n",
    "            #decrease row & colum\n",
    "            if (search == 3):\n",
    "                search_col = col-1\n",
    "                search_row = row-1 \n",
    "                \n",
    "                if (search_row < 0):\n",
    "                    search=search+1 \n",
    "                if (search_col < 0):\n",
    "                    search=search+1    \n",
    "        \n",
    "        #decrease colum\n",
    "            if (search == 4):\n",
    "                search_col = col-1  \n",
    "                \n",
    "                if (search_col < 0):\n",
    "                    search=search+1 \n",
    "              \n",
    "            #increase row & decrease colum\n",
    "            if (search == 5):\n",
    "                search_row = row+1  \n",
    "               \n",
    "                search_col = col-1  \n",
    "                \n",
    "                if (search_col < 0):\n",
    "                    search=search+1 \n",
    "        \n",
    "        #increase row\n",
    "        \n",
    "            if (search == 6):\n",
    "                search_row = row+1  \n",
    "        \n",
    "        #increase row & increase colum\n",
    "            if (search == 7):\n",
    "                 search_row = row+1  \n",
    "                search_col = col+1  \n",
    "        \n",
    "        \n",
    "        return borders [:-2] #coz last two vals are repeated\n",
    "    \n",
    "b=border_tracing(4,arr)\n",
    "b    "
   ]
  },
  {
   "cell_type": "code",
   "execution_count": 90,
   "id": "f76545c0",
   "metadata": {},
   "outputs": [
    {
     "data": {
      "text/plain": [
       "(Text(0.5, 1.0, 'Multiple Region'), ([], []), ([], []))"
      ]
     },
     "execution_count": 90,
     "metadata": {},
     "output_type": "execute_result"
    },
    {
     "data": {
      "image/png": "[encoded data removed]",
      "text/plain": [
       "<Figure size 432x288 with 1 Axes>"
      ]
     },
     "metadata": {},
     "output_type": "display_data"
    }
   ],
   "source": [
    "# re-initialize our canvas once again\n",
    "canvas = np.zeros((300, 300, 1), dtype=\"uint8\")\n",
    "# let's draw 25 random circles\n",
    "for i in range(0, 2):\n",
    "\t# randomly generate a radius size between 5 and 200, generate a\n",
    "\t# random color, and then pick a random point on our canvas where\n",
    "\t# the circle will be drawn\n",
    "\tradius = np.random.randint(10, high=200)\n",
    "\tcolor = np.random.randint(0, high=256, size=(3,)).tolist()\n",
    "\tpt = np.random.randint(0, high=300, size=(2,))\n",
    "\t# draw our random circle on the canvas\n",
    "\tcv2.circle(canvas, tuple(pt), radius, color, -1)\n",
    "plt.subplot(221), plt.imshow(canvas, cmap='gray')\n",
    "plt.title('Multiple Region'), plt.xticks([]), plt.yticks([])"
   ]
  },
  {
   "cell_type": "code",
   "execution_count": 89,
   "id": "d8591ec4",
   "metadata": {},
   "outputs": [
    {
     "data": {
      "text/plain": [
       "(Text(0.5, 1.0, 'Single Region'), ([], []), ([], []))"
      ]
     },
     "execution_count": 89,
     "metadata": {},
     "output_type": "execute_result"
    },
    {
     "data": {
      "image/png": "[encoded data removed]",
      "text/plain": [
       "<Figure size 432x288 with 1 Axes>"
      ]
     },
     "metadata": {},
     "output_type": "display_data"
    }
   ],
   "source": [
    "import numpy as np\n",
    "import cv2\n",
    "\n",
    "# initialize our canvas as a 300x300 pixel image with 3 channels\n",
    "# (Red, Green, and Blue) with a black background\n",
    "canvas3 = np.zeros((300, 300, 1), dtype=\"uint8\")\n",
    "#blue=(0,0,255)\n",
    "cv2.rectangle(canvas3, (100, 100), (200,200),1,-1)\n",
    "\n",
    "\n",
    "\n",
    "plt.subplot(221), plt.imshow(canvas3, cmap='gray')\n",
    "plt.title('Single Region'), plt.xticks([]), plt.yticks([])\n",
    "#cv2.imshow(\"Canvas\", canvas)\n",
    "#cv2.waitKey(0)"
   ]
  },
  {
   "cell_type": "code",
   "execution_count": null,
   "id": "807b87c1",
   "metadata": {},
   "outputs": [],
   "source": []
  }
 ],
 "metadata": {
  "kernelspec": {
   "display_name": "Python 3",
   "language": "python",
   "name": "python3"
  },
  "language_info": {
   "codemirror_mode": {
    "name": "ipython",
    "version": 3
   },
   "file_extension": ".py",
   "mimetype": "text/x-python",
   "name": "python",
   "nbconvert_exporter": "python",
   "pygments_lexer": "ipython3",
   "version": "3.8.8"
  }
 },
 "nbformat": 4,
 "nbformat_minor": 5
}
