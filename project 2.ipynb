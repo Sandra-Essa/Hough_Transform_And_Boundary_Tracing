{
 "cells": [
  {
   "cell_type": "code",
   "execution_count": 62,
   "id": "d78bb155",
   "metadata": {},
   "outputs": [
    {
     "data": {
      "text/plain": [
       "(Text(0.5, 1.0, 'Multiple Region'), ([], []), ([], []))"
      ]
     },
     "execution_count": 62,
     "metadata": {},
     "output_type": "execute_result"
    },
    {
     "data": {
      "image/png": "[encoded data removed]",
      "text/plain": [
       "<Figure size 432x288 with 1 Axes>"
      ]
     },
     "metadata": {},
     "output_type": "display_data"
    }
   ],
   "source": [
    "import numpy as np\n",
    "import cv2\n",
    "\n",
    "# initialize our canvas as a 300x300 pixel image with 3 channels\n",
    "# (Red, Green, and Blue) with a black background\n",
    "canvas1 = np.zeros((300, 300, 3), dtype=\"uint8\")\n",
    "green=(0,255,0)\n",
    "cv2.rectangle(canvas1, (100, 100), (200,200), green,10)\n",
    "\n",
    "red = (255,0,0)\n",
    "cv2.rectangle(canvas1, (30, 225), (250, 250), red, -1)\n",
    "\n",
    "plt.subplot(221), plt.imshow(canvas1, cmap='gray')\n",
    "plt.title('Multiple Region'), plt.xticks([]), plt.yticks([])\n",
    "#cv2.imshow(\"Canvas\", canvas)\n",
    "#cv2.waitKey(0)"
   ]
  },
  {
   "cell_type": "code",
   "execution_count": 83,
   "id": "f76545c0",
   "metadata": {},
   "outputs": [
    {
     "data": {
      "text/plain": [
       "(Text(0.5, 1.0, 'Multiple Region'), ([], []), ([], []))"
      ]
     },
     "execution_count": 83,
     "metadata": {},
     "output_type": "execute_result"
    },
    {
     "data": {
      "image/png": "[encoded data removed]",
      "text/plain": [
       "<Figure size 432x288 with 1 Axes>"
      ]
     },
     "metadata": {},
     "output_type": "display_data"
    }
   ],
   "source": [
    "# re-initialize our canvas once again\n",
    "canvas = np.zeros((300, 300, 3), dtype=\"uint8\")\n",
    "# let's draw 25 random circles\n",
    "for i in range(0, 2):\n",
    "\t# randomly generate a radius size between 5 and 200, generate a\n",
    "\t# random color, and then pick a random point on our canvas where\n",
    "\t# the circle will be drawn\n",
    "\tradius = np.random.randint(10, high=200)\n",
    "\tcolor = np.random.randint(0, high=256, size=(3,)).tolist()\n",
    "\tpt = np.random.randint(0, high=300, size=(2,))\n",
    "\t# draw our random circle on the canvas\n",
    "\tcv2.circle(canvas, tuple(pt), radius, color, -1)\n",
    "plt.subplot(221), plt.imshow(canvas, cmap='gray')\n",
    "plt.title('Multiple Region'), plt.xticks([]), plt.yticks([])"
   ]
  },
  {
   "cell_type": "code",
   "execution_count": 82,
   "id": "d8591ec4",
   "metadata": {},
   "outputs": [
    {
     "data": {
      "text/plain": [
       "(Text(0.5, 1.0, 'Single Region'), ([], []), ([], []))"
      ]
     },
     "execution_count": 82,
     "metadata": {},
     "output_type": "execute_result"
    },
    {
     "data": {
      "image/png": "[encoded data removed]",
      "text/plain": [
       "<Figure size 432x288 with 1 Axes>"
      ]
     },
     "metadata": {},
     "output_type": "display_data"
    }
   ],
   "source": [
    "import numpy as np\n",
    "import cv2\n",
    "\n",
    "# initialize our canvas as a 300x300 pixel image with 3 channels\n",
    "# (Red, Green, and Blue) with a black background\n",
    "canvas3 = np.zeros((300, 300, 3), dtype=\"uint8\")\n",
    "blue=(0,0,255)\n",
    "cv2.rectangle(canvas3, (100, 100), (200,200), blue,-1)\n",
    "\n",
    "\n",
    "\n",
    "plt.subplot(221), plt.imshow(canvas3, cmap='gray')\n",
    "plt.title('Single Region'), plt.xticks([]), plt.yticks([])\n",
    "#cv2.imshow(\"Canvas\", canvas)\n",
    "#cv2.waitKey(0)"
   ]
  },
  {
   "cell_type": "code",
   "execution_count": null,
   "id": "5f233a51",
   "metadata": {},
   "outputs": [],
   "source": []
  }
 ],
 "metadata": {
  "kernelspec": {
   "display_name": "Python 3",
   "language": "python",
   "name": "python3"
  },
  "language_info": {
   "codemirror_mode": {
    "name": "ipython",
    "version": 3
   },
   "file_extension": ".py",
   "mimetype": "text/x-python",
   "name": "python",
   "nbconvert_exporter": "python",
   "pygments_lexer": "ipython3",
   "version": "3.8.8"
  }
 },
 "nbformat": 4,
 "nbformat_minor": 5
}
